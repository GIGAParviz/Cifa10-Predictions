{
  "cells": [
    {
      "cell_type": "markdown",
      "metadata": {
        "id": "view-in-github",
        "colab_type": "text"
      },
      "source": [
        "<a href=\"https://colab.research.google.com/github/GIGAParviz/Cifa10-Predictions/blob/main/Cifar10.ipynb\" target=\"_parent\"><img src=\"https://colab.research.google.com/assets/colab-badge.svg\" alt=\"Open In Colab\"/></a>"
      ]
    },
    {
      "cell_type": "code",
      "execution_count": null,
      "metadata": {
        "id": "sQMki3-brWCF"
      },
      "outputs": [],
      "source": [
        "from tensorflow import keras\n",
        "from keras import layers\n",
        "import matplotlib.pyplot as plt\n",
        "import numpy as np\n",
        "from sklearn.model_selection import train_test_split\n",
        "import tensorflow as tf\n",
        "from sklearn.preprocessing import StandardScaler\n",
        "from keras import layers"
      ]
    },
    {
      "cell_type": "code",
      "execution_count": null,
      "metadata": {
        "id": "CAaSLzXuxWV9",
        "colab": {
          "base_uri": "https://localhost:8080/"
        },
        "outputId": "d7a322f1-4802-4581-dc72-e1e6f51b8485"
      },
      "outputs": [
        {
          "output_type": "stream",
          "name": "stdout",
          "text": [
            "Downloading data from https://www.cs.toronto.edu/~kriz/cifar-10-python.tar.gz\n",
            "170498071/170498071 [==============================] - 13s 0us/step\n"
          ]
        }
      ],
      "source": [
        "(x_train0, y_train0), (x_test, y_test) = keras.datasets.cifar10.load_data()\n",
        "x_train , x_val , y_train , y_val = train_test_split(x_train0 , y_train0)\n",
        "\n",
        "\n",
        "\n",
        "x_train = x_train/255\n",
        "x_test = x_test/255\n",
        "x_val = x_val/255\n",
        "\n",
        "# scaler = StandardScaler()\n",
        "\n",
        "\n",
        "# x_train = scaler.fit_transform(x_train)\n",
        "# x_test = scaler.transform(x_test)\n",
        "# x_val = scaler.transform(x_val)"
      ]
    },
    {
      "cell_type": "code",
      "execution_count": null,
      "metadata": {
        "colab": {
          "base_uri": "https://localhost:8080/"
        },
        "id": "WDnSlm36Y-Fu",
        "outputId": "ab68d087-722f-44d5-d477-b1a6932f466f"
      },
      "outputs": [
        {
          "data": {
            "text/plain": [
              "(37500, 32, 32, 3)"
            ]
          },
          "execution_count": 5,
          "metadata": {},
          "output_type": "execute_result"
        }
      ],
      "source": [
        "x_train.shape"
      ]
    },
    {
      "cell_type": "code",
      "execution_count": null,
      "metadata": {
        "colab": {
          "base_uri": "https://localhost:8080/",
          "height": 447
        },
        "id": "c710dmInrpak",
        "outputId": "98d3aea7-d7f4-47d0-d916-b78d5903169a"
      },
      "outputs": [
        {
          "data": {
            "text/plain": [
              "<matplotlib.image.AxesImage at 0x7d8d4e538880>"
            ]
          },
          "execution_count": 6,
          "metadata": {},
          "output_type": "execute_result"
        },
        {
          "data": {
            "image/png": "[encoded data removed]",
            "text/plain": [
              "<Figure size 640x480 with 1 Axes>"
            ]
          },
          "metadata": {},
          "output_type": "display_data"
        }
      ],
      "source": [
        "plt.imshow(x_train[1])"
      ]
    },
    {
      "cell_type": "code",
      "execution_count": null,
      "metadata": {
        "colab": {
          "base_uri": "https://localhost:8080/"
        },
        "id": "KHtXW5SCw5AX",
        "outputId": "76c7b619-9133-4b03-c543-8d6eed5fcde4"
      },
      "outputs": [
        {
          "data": {
            "text/plain": [
              "(37500, 1)"
            ]
          },
          "execution_count": 7,
          "metadata": {},
          "output_type": "execute_result"
        }
      ],
      "source": [
        "y_train.shape"
      ]
    },
    {
      "cell_type": "code",
      "execution_count": null,
      "metadata": {
        "colab": {
          "base_uri": "https://localhost:8080/"
        },
        "id": "Eg9ebCUfsz7e",
        "outputId": "41c7984e-91cd-4bf9-d3f6-00238882faf3"
      },
      "outputs": [
        {
          "data": {
            "text/plain": [
              "(37500, 32, 32, 3)"
            ]
          },
          "execution_count": 8,
          "metadata": {},
          "output_type": "execute_result"
        }
      ],
      "source": [
        "x_train.shape"
      ]
    },
    {
      "cell_type": "code",
      "execution_count": null,
      "metadata": {
        "id": "09jZbzTWscSF"
      },
      "outputs": [],
      "source": [
        "init = keras.initializers.LecunNormal()\n",
        "\n",
        "model = keras.Sequential()\n",
        "model.add(layers.Flatten(input_shape=[32 ,32 ,3]))\n",
        "model.add(layers.Dense(150 , activation='selu' , bias_initializer='zero' , kernel_initializer=init))\n",
        "model.add(layers.Dense(150 , activation='selu' ))\n",
        "model.add(layers.Dense(100 , activation='selu'))\n",
        "model.add(layers.AlphaDropout(rate=0.2))\n",
        "model.add(layers.Dense(10 , activation='softmax'))\n"
      ]
    },
    {
      "cell_type": "code",
      "execution_count": null,
      "metadata": {
        "id": "I3KQHtaXsqDN"
      },
      "outputs": [],
      "source": [
        "model.weights"
      ]
    },
    {
      "cell_type": "code",
      "execution_count": null,
      "metadata": {
        "id": "108cIHxyvOyN"
      },
      "outputs": [],
      "source": [
        "calb  = keras.callbacks.EarlyStopping(patience=5 ,restore_best_weights=True)\n",
        "\n",
        "def scheduler(epoch, lr):\n",
        "  if epoch < 10:\n",
        "    return lr\n",
        "  else:\n",
        "    return lr * tf.math.exp(-0.1)\n",
        "c = keras.callbacks.LearningRateScheduler(scheduler)\n",
        "\n",
        "rmsporp = keras.optimizers.RMSprop(momentum=0.2)\n",
        "model.compile(\n",
        "    loss='sparse_categorical_crossentropy',\n",
        "    optimizer='nadam',\n",
        "    metrics='accuracy'\n",
        ")"
      ]
    },
    {
      "cell_type": "code",
      "execution_count": null,
      "metadata": {
        "id": "gu4KeSXgwpWt"
      },
      "outputs": [],
      "source": [
        "h = model.fit(x_train , y_train , validation_data=(x_val , y_val) , epochs=100)"
      ]
    },
    {
      "cell_type": "code",
      "execution_count": null,
      "metadata": {
        "colab": {
          "background_save": true
        },
        "id": "6cZhQ0vywyLV",
        "outputId": "101ebda3-6789-4cda-f843-1ac29da3dd0e"
      },
      "outputs": [
        {
          "name": "stdout",
          "output_type": "stream",
          "text": [
            "313/313 [==============================] - 1s 3ms/step - loss: 3.0981 - accuracy: 0.5089\n"
          ]
        },
        {
          "data": {
            "text/plain": [
              "[3.0981428623199463, 0.508899986743927]"
            ]
          },
          "execution_count": 11,
          "metadata": {},
          "output_type": "execute_result"
        }
      ],
      "source": [
        "model.evaluate(x_test , y_test)"
      ]
    },
    {
      "cell_type": "code",
      "execution_count": null,
      "metadata": {
        "colab": {
          "background_save": true
        },
        "id": "echQbvRc9DV-",
        "outputId": "c5550e53-5b0b-4834-a439-68bd4b0c3bb5"
      },
      "outputs": [
        {
          "name": "stdout",
          "output_type": "stream",
          "text": [
            "313/313 [==============================] - 1s 2ms/step\n"
          ]
        }
      ],
      "source": [
        "pre = model.predict(x_test)"
      ]
    },
    {
      "cell_type": "code",
      "execution_count": null,
      "metadata": {
        "colab": {
          "background_save": true
        },
        "id": "lURoiPmrF2Aj",
        "outputId": "a50095dc-b7a2-40ab-8086-d822068372a0"
      },
      "outputs": [
        {
          "name": "stdout",
          "output_type": "stream",
          "text": [
            "              precision    recall  f1-score   support\n",
            "\n",
            "           0       0.61      0.53      0.57      1160\n",
            "           1       0.60      0.64      0.62       938\n",
            "           2       0.41      0.41      0.41      1002\n",
            "           3       0.40      0.33      0.36      1224\n",
            "           4       0.36      0.48      0.41       764\n",
            "           5       0.39      0.42      0.41       933\n",
            "           6       0.57      0.57      0.57      1010\n",
            "           7       0.56      0.56      0.56      1012\n",
            "           8       0.61      0.64      0.62       953\n",
            "           9       0.57      0.57      0.57      1004\n",
            "\n",
            "    accuracy                           0.51     10000\n",
            "   macro avg       0.51      0.51      0.51     10000\n",
            "weighted avg       0.51      0.51      0.51     10000\n",
            "\n"
          ]
        }
      ],
      "source": [
        "from sklearn.metrics import classification_report , confusion_matrix\n",
        "classes=np.argmax(pre , axis=1)\n",
        "print(classification_report(classes,y_test))"
      ]
    },
    {
      "cell_type": "code",
      "execution_count": null,
      "metadata": {
        "colab": {
          "background_save": true
        },
        "id": "i18wvnM8-K-9",
        "outputId": "9d3b08c7-9570-4e8f-fadc-c3e7745c16f8"
      },
      "outputs": [
        {
          "data": {
            "text/plain": [
              "array([[612,  57,  97,  32,  52,  29,  17,  48, 149,  67],\n",
              "       [ 29, 603,   9,  12,  15,   8,  15,  19,  66, 162],\n",
              "       [ 61,  22, 408,  90, 173,  79,  72,  62,  18,  17],\n",
              "       [ 41,  31, 128, 399,  86, 250, 144,  78,  35,  32],\n",
              "       [ 29,  12,  90,  52, 363,  50,  67,  59,  27,  15],\n",
              "       [ 14,  16,  78, 186,  69, 392,  54,  84,  13,  27],\n",
              "       [ 13,  15,  87,  94, 112,  59, 574,  29,   8,  19],\n",
              "       [ 36,  30,  62,  63,  95,  78,  27, 563,  20,  38],\n",
              "       [110,  62,  26,  31,  19,  23,  15,   7, 606,  54],\n",
              "       [ 55, 152,  15,  41,  16,  32,  15,  51,  58, 569]])"
            ]
          },
          "execution_count": 14,
          "metadata": {},
          "output_type": "execute_result"
        }
      ],
      "source": [
        "confusion_matrix(classes , y_test)"
      ]
    },
    {
      "cell_type": "markdown",
      "metadata": {
        "id": "veYU7utVpGrX"
      },
      "source": [
        "# **Convoluntional Neural**"
      ]
    },
    {
      "cell_type": "code",
      "execution_count": null,
      "metadata": {
        "id": "LpmUQRFupKvh"
      },
      "outputs": [],
      "source": [
        "images = x_train[:2 ,: ,:,:]"
      ]
    },
    {
      "cell_type": "code",
      "execution_count": null,
      "metadata": {
        "colab": {
          "background_save": true
        },
        "id": "iYQYBUoW_v2T",
        "outputId": "dfda3eb1-1b66-4e6d-c958-1b5a3da6ff66"
      },
      "outputs": [
        {
          "data": {
            "text/plain": [
              "(2, 32, 32, 3)"
            ]
          },
          "execution_count": 16,
          "metadata": {},
          "output_type": "execute_result"
        }
      ],
      "source": [
        "images.shape"
      ]
    },
    {
      "cell_type": "code",
      "execution_count": null,
      "metadata": {
        "colab": {
          "background_save": true
        },
        "id": "djBzlGhlp4yT"
      },
      "outputs": [],
      "source": [
        "filters = np.zeros((5,5,3,2))\n",
        "filters[: , 2 , : , 0]=1\n",
        "filters[2, : , : , 1]=1"
      ]
    },
    {
      "cell_type": "code",
      "execution_count": null,
      "metadata": {
        "colab": {
          "background_save": true
        },
        "id": "I619n_kzqYpr",
        "outputId": "57d66e88-3210-435a-e6f0-508c072ffd76"
      },
      "outputs": [
        {
          "data": {
            "text/plain": [
              "<matplotlib.image.AxesImage at 0x7f223812ab00>"
            ]
          },
          "execution_count": 18,
          "metadata": {},
          "output_type": "execute_result"
        },
        {
          "data": {
            "image/png": "[encoded data removed]",
            "text/plain": [
              "<Figure size 640x480 with 1 Axes>"
            ]
          },
          "metadata": {},
          "output_type": "display_data"
        }
      ],
      "source": [
        "plt.imshow(filters[:,:,:,1])"
      ]
    },
    {
      "cell_type": "code",
      "execution_count": null,
      "metadata": {
        "colab": {
          "background_save": true
        },
        "id": "nzFm0Av-qdQm"
      },
      "outputs": [],
      "source": [
        "convolved = tf.nn.conv2d(images , filters , padding='SAME' , strides=1)"
      ]
    },
    {
      "cell_type": "code",
      "source": [
        "pooled = keras.layers.MaxPooling2D(images , strides=(2,2))"
      ],
      "metadata": {
        "id": "IKNmWpRjcpte",
        "colab": {
          "base_uri": "https://localhost:8080/",
          "height": 1000
        },
        "outputId": "f763b6a4-acb4-429c-bc44-1988b3d60649"
      },
      "execution_count": null,
      "outputs": [
        {
          "output_type": "error",
          "ename": "ValueError",
          "evalue": "ignored",
          "traceback": [
            "\u001b[0;31m---------------------------------------------------------------------------\u001b[0m",
            "\u001b[0;31mTypeError\u001b[0m                                 Traceback (most recent call last)",
            "\u001b[0;32m/usr/local/lib/python3.10/dist-packages/keras/src/utils/conv_utils.py\u001b[0m in \u001b[0;36mnormalize_tuple\u001b[0;34m(value, n, name, allow_zero)\u001b[0m\n\u001b[1;32m     92\u001b[0m             \u001b[0;32mtry\u001b[0m\u001b[0;34m:\u001b[0m\u001b[0;34m\u001b[0m\u001b[0;34m\u001b[0m\u001b[0m\n\u001b[0;32m---> 93\u001b[0;31m                 \u001b[0mint\u001b[0m\u001b[0;34m(\u001b[0m\u001b[0msingle_value\u001b[0m\u001b[0;34m)\u001b[0m\u001b[0;34m\u001b[0m\u001b[0;34m\u001b[0m\u001b[0m\n\u001b[0m\u001b[1;32m     94\u001b[0m             \u001b[0;32mexcept\u001b[0m \u001b[0;34m(\u001b[0m\u001b[0mValueError\u001b[0m\u001b[0;34m,\u001b[0m \u001b[0mTypeError\u001b[0m\u001b[0;34m)\u001b[0m\u001b[0;34m:\u001b[0m\u001b[0;34m\u001b[0m\u001b[0;34m\u001b[0m\u001b[0m\n",
            "\u001b[0;31mTypeError\u001b[0m: only size-1 arrays can be converted to Python scalars",
            "\nDuring handling of the above exception, another exception occurred:\n",
            "\u001b[0;31mValueError\u001b[0m                                Traceback (most recent call last)",
            "\u001b[0;32m<ipython-input-7-54c608dcf038>\u001b[0m in \u001b[0;36m<cell line: 1>\u001b[0;34m()\u001b[0m\n\u001b[0;32m----> 1\u001b[0;31m \u001b[0mpooled\u001b[0m \u001b[0;34m=\u001b[0m \u001b[0mkeras\u001b[0m\u001b[0;34m.\u001b[0m\u001b[0mlayers\u001b[0m\u001b[0;34m.\u001b[0m\u001b[0mMaxPooling2D\u001b[0m\u001b[0;34m(\u001b[0m\u001b[0mimages\u001b[0m \u001b[0;34m,\u001b[0m \u001b[0mstrides\u001b[0m\u001b[0;34m=\u001b[0m\u001b[0;34m(\u001b[0m\u001b[0;36m2\u001b[0m\u001b[0;34m,\u001b[0m\u001b[0;36m2\u001b[0m\u001b[0;34m)\u001b[0m\u001b[0;34m)\u001b[0m\u001b[0;34m\u001b[0m\u001b[0;34m\u001b[0m\u001b[0m\n\u001b[0m",
            "\u001b[0;32m/usr/local/lib/python3.10/dist-packages/keras/src/layers/pooling/max_pooling2d.py\u001b[0m in \u001b[0;36m__init__\u001b[0;34m(self, pool_size, strides, padding, data_format, **kwargs)\u001b[0m\n\u001b[1;32m    157\u001b[0m         \u001b[0;34m**\u001b[0m\u001b[0mkwargs\u001b[0m\u001b[0;34m\u001b[0m\u001b[0;34m\u001b[0m\u001b[0m\n\u001b[1;32m    158\u001b[0m     ):\n\u001b[0;32m--> 159\u001b[0;31m         super().__init__(\n\u001b[0m\u001b[1;32m    160\u001b[0m             \u001b[0mtf\u001b[0m\u001b[0;34m.\u001b[0m\u001b[0mcompat\u001b[0m\u001b[0;34m.\u001b[0m\u001b[0mv1\u001b[0m\u001b[0;34m.\u001b[0m\u001b[0mnn\u001b[0m\u001b[0;34m.\u001b[0m\u001b[0mmax_pool\u001b[0m\u001b[0;34m,\u001b[0m\u001b[0;34m\u001b[0m\u001b[0;34m\u001b[0m\u001b[0m\n\u001b[1;32m    161\u001b[0m             \u001b[0mpool_size\u001b[0m\u001b[0;34m=\u001b[0m\u001b[0mpool_size\u001b[0m\u001b[0;34m,\u001b[0m\u001b[0;34m\u001b[0m\u001b[0;34m\u001b[0m\u001b[0m\n",
            "\u001b[0;32m/usr/local/lib/python3.10/dist-packages/keras/src/layers/pooling/base_pooling2d.py\u001b[0m in \u001b[0;36m__init__\u001b[0;34m(self, pool_function, pool_size, strides, padding, data_format, name, **kwargs)\u001b[0m\n\u001b[1;32m     67\u001b[0m             \u001b[0mstrides\u001b[0m \u001b[0;34m=\u001b[0m \u001b[0mpool_size\u001b[0m\u001b[0;34m\u001b[0m\u001b[0;34m\u001b[0m\u001b[0m\n\u001b[1;32m     68\u001b[0m         \u001b[0mself\u001b[0m\u001b[0;34m.\u001b[0m\u001b[0mpool_function\u001b[0m \u001b[0;34m=\u001b[0m \u001b[0mpool_function\u001b[0m\u001b[0;34m\u001b[0m\u001b[0;34m\u001b[0m\u001b[0m\n\u001b[0;32m---> 69\u001b[0;31m         \u001b[0mself\u001b[0m\u001b[0;34m.\u001b[0m\u001b[0mpool_size\u001b[0m \u001b[0;34m=\u001b[0m \u001b[0mconv_utils\u001b[0m\u001b[0;34m.\u001b[0m\u001b[0mnormalize_tuple\u001b[0m\u001b[0;34m(\u001b[0m\u001b[0mpool_size\u001b[0m\u001b[0;34m,\u001b[0m \u001b[0;36m2\u001b[0m\u001b[0;34m,\u001b[0m \u001b[0;34m\"pool_size\"\u001b[0m\u001b[0;34m)\u001b[0m\u001b[0;34m\u001b[0m\u001b[0;34m\u001b[0m\u001b[0m\n\u001b[0m\u001b[1;32m     70\u001b[0m         self.strides = conv_utils.normalize_tuple(\n\u001b[1;32m     71\u001b[0m             \u001b[0mstrides\u001b[0m\u001b[0;34m,\u001b[0m \u001b[0;36m2\u001b[0m\u001b[0;34m,\u001b[0m \u001b[0;34m\"strides\"\u001b[0m\u001b[0;34m,\u001b[0m \u001b[0mallow_zero\u001b[0m\u001b[0;34m=\u001b[0m\u001b[0;32mTrue\u001b[0m\u001b[0;34m\u001b[0m\u001b[0;34m\u001b[0m\u001b[0m\n",
            "\u001b[0;32m/usr/local/lib/python3.10/dist-packages/keras/src/utils/conv_utils.py\u001b[0m in \u001b[0;36mnormalize_tuple\u001b[0;34m(value, n, name, allow_zero)\u001b[0m\n\u001b[1;32m     97\u001b[0m                     \u001b[0;34mf\"type {type(single_value)}\"\u001b[0m\u001b[0;34m\u001b[0m\u001b[0;34m\u001b[0m\u001b[0m\n\u001b[1;32m     98\u001b[0m                 )\n\u001b[0;32m---> 99\u001b[0;31m                 \u001b[0;32mraise\u001b[0m \u001b[0mValueError\u001b[0m\u001b[0;34m(\u001b[0m\u001b[0merror_msg\u001b[0m\u001b[0;34m)\u001b[0m\u001b[0;34m\u001b[0m\u001b[0;34m\u001b[0m\u001b[0m\n\u001b[0m\u001b[1;32m    100\u001b[0m \u001b[0;34m\u001b[0m\u001b[0m\n\u001b[1;32m    101\u001b[0m     \u001b[0;32mif\u001b[0m \u001b[0mallow_zero\u001b[0m\u001b[0;34m:\u001b[0m\u001b[0;34m\u001b[0m\u001b[0;34m\u001b[0m\u001b[0m\n",
            "\u001b[0;31mValueError\u001b[0m: The `pool_size` argument must be a tuple of 2 integers. Received: [[[[0.00392157 0.00392157 0.00392157]\n   [0.00392157 0.00392157 0.00392157]\n   [0.00392157 0.00392157 0.00392157]\n   ...\n   [0.00392157 0.00392157 0.00392157]\n   [0.00392157 0.00392157 0.00392157]\n   [0.00392157 0.00392157 0.00392157]]\n\n  [[0.00392157 0.00392157 0.00392157]\n   [0.00392157 0.00392157 0.00392157]\n   [0.00392157 0.00392157 0.00392157]\n   ...\n   [0.00392157 0.00392157 0.00392157]\n   [0.00392157 0.00392157 0.00392157]\n   [0.00392157 0.00392157 0.00392157]]\n\n  [[0.00392157 0.00392157 0.00392157]\n   [0.00392157 0.00392157 0.00392157]\n   [0.00392157 0.00392157 0.00392157]\n   ...\n   [0.00392157 0.00392157 0.00392157]\n   [0.00392157 0.00392157 0.00392157]\n   [0.00392157 0.00392157 0.00392157]]\n\n  ...\n\n  [[0.00392157 0.00392157 0.00392157]\n   [0.00392157 0.00392157 0.00392157]\n   [0.00392157 0.00392157 0.00392157]\n   ...\n   [0.00392157 0.00392157 0.00392157]\n   [0.00392157 0.00392157 0.00392157]\n   [0.00392157 0.00392157 0.00392157]]\n\n  [[0.00392157 0.00392157 0.00392157]\n   [0.00392157 0.00392157 0.00392157]\n   [0.00392157 0.00392157 0.00392157]\n   ...\n   [0.00784314 0.00784314 0.00784314]\n   [0.00392157 0.00392157 0.00392157]\n   [0.00392157 0.00392157 0.00392157]]\n\n  [[0.00392157 0.00392157 0.00392157]\n   [0.00392157 0.00392157 0.00392157]\n   [0.00392157 0.00392157 0.00392157]\n   ...\n   [0.00784314 0.00784314 0.00784314]\n   [0.00392157 0.00392157 0.00392157]\n   [0.00392157 0.00392157 0.00392157]]]\n\n\n [[[0.65882353 0.74117647 0.82745098]\n   [0.6627451  0.74509804 0.82745098]\n   [0.67058824 0.75294118 0.83529412]\n   ...\n   [0.6627451  0.74509804 0.81960784]\n   [0.65490196 0.7372549  0.80784314]\n   [0.64313725 0.7254902  0.8       ]]\n\n  [[0.67058824 0.75294118 0.83921569]\n   [0.6745098  0.75686275 0.83921569]\n   [0.67843137 0.76078431 0.84705882]\n   ...\n   [0.66666667 0.75294118 0.83137255]\n   [0.6627451  0.74509804 0.82352941]\n   [0.65098039 0.7372549  0.81568627]]\n\n  [[0.6627451  0.74509804 0.83137255]\n   [0.66666667 0.74901961 0.83137255]\n   [0.6745098  0.75686275 0.83921569]\n   ...\n   [0.65882353 0.74509804 0.82745098]\n   [0.65098039 0.7372549  0.81960784]\n   [0.64313725 0.72941176 0.81176471]]\n\n  ...\n\n  [[0.54509804 0.54901961 0.54509804]\n   [0.5372549  0.54117647 0.5372549 ]\n   [0.54901961 0.55686275 0.55294118]\n   ...\n   [0.58039216 0.6        0.61176471]\n   [0.58431373 0.60392157 0.61568627]\n   [0.58431373 0.60392157 0.61568627]]\n\n  [[0.61176471 0.61568627 0.61176471]\n   [0.60784314 0.61568627 0.61176471]\n   [0.61176471 0.61960784 0.61176471]\n   ...\n   [0.63529412 0.64705882 0.64313725]\n   [0.63921569 0.64705882 0.64313725]\n   [0.63921569 0.64705882 0.64705882]]\n\n  [[0.57647059 0.58039216 0.57254902]\n   [0.57254902 0.58039216 0.57254902]\n   [0.57254902 0.58039216 0.57254902]\n   ...\n   [0.61568627 0.61960784 0.59607843]\n   [0.61568627 0.61568627 0.58823529]\n   [0.62352941 0.61960784 0.59215686]]]]including element [[[0.00392157 0.00392157 0.00392157]\n  [0.00392157 0.00392157 0.00392157]\n  [0.00392157 0.00392157 0.00392157]\n  ...\n  [0.00392157 0.00392157 0.00392157]\n  [0.00392157 0.00392157 0.00392157]\n  [0.00392157 0.00392157 0.00392157]]\n\n [[0.00392157 0.00392157 0.00392157]\n  [0.00392157 0.00392157 0.00392157]\n  [0.00392157 0.00392157 0.00392157]\n  ...\n  [0.00392157 0.00392157 0.00392157]\n  [0.00392157 0.00392157 0.00392157]\n  [0.00392157 0.00392157 0.00392157]]\n\n [[0.00392157 0.00392157 0.00392157]\n  [0.00392157 0.00392157 0.00392157]\n  [0.00392157 0.00392157 0.00392157]\n  ...\n  [0.00392157 0.00392157 0.00392157]\n  [0.00392157 0.00392157 0.00392157]\n  [0.00392157 0.00392157 0.00392157]]\n\n ...\n\n [[0.00392157 0.00392157 0.00392157]\n  [0.00392157 0.00392157 0.00392157]\n  [0.00392157 0.00392157 0.00392157]\n  ...\n  [0.00392157 0.00392157 0.00392157]\n  [0.00392157 0.00392157 0.00392157]\n  [0.00392157 0.00392157 0.00392157]]\n\n [[0.00392157 0.00392157 0.00392157]\n  [0.00392157 0.00392157 0.00392157]\n  [0.00392157 0.00392157 0.00392157]\n  ...\n  [0.00784314 0.00784314 0.00784314]\n  [0.00392157 0.00392157 0.00392157]\n  [0.00392157 0.00392157 0.00392157]]\n\n [[0.00392157 0.00392157 0.00392157]\n  [0.00392157 0.00392157 0.00392157]\n  [0.00392157 0.00392157 0.00392157]\n  ...\n  [0.00784314 0.00784314 0.00784314]\n  [0.00392157 0.00392157 0.00392157]\n  [0.00392157 0.00392157 0.00392157]]] of type <class 'numpy.ndarray'>"
          ]
        }
      ]
    },
    {
      "cell_type": "code",
      "execution_count": null,
      "metadata": {
        "colab": {
          "background_save": true
        },
        "id": "SFlpWyDlrSNW",
        "outputId": "0231851a-8743-4619-f275-8abf527160cf"
      },
      "outputs": [
        {
          "data": {
            "text/plain": [
              "<matplotlib.image.AxesImage at 0x7f2281716dd0>"
            ]
          },
          "execution_count": 20,
          "metadata": {},
          "output_type": "execute_result"
        },
        {
          "data": {
            "image/png": "[encoded data removed]",
            "text/plain": [
              "<Figure size 640x480 with 1 Axes>"
            ]
          },
          "metadata": {},
          "output_type": "display_data"
        }
      ],
      "source": [
        "plt.imshow(convolved[1,:,:,0])"
      ]
    },
    {
      "cell_type": "code",
      "execution_count": null,
      "metadata": {
        "colab": {
          "background_save": true
        },
        "id": "RVRhdI8-r6yM",
        "outputId": "931d2eba-8efa-44f7-dc2f-d5f5eec9eedb"
      },
      "outputs": [
        {
          "data": {
            "text/plain": [
              "<matplotlib.image.AxesImage at 0x7f228178b0d0>"
            ]
          },
          "execution_count": 21,
          "metadata": {},
          "output_type": "execute_result"
        },
        {
          "data": {
            "image/png": "[encoded data removed]",
            "text/plain": [
              "<Figure size 640x480 with 1 Axes>"
            ]
          },
          "metadata": {},
          "output_type": "display_data"
        }
      ],
      "source": [
        "plt.imshow(convolved[1,:,:,1])"
      ]
    },
    {
      "cell_type": "code",
      "execution_count": null,
      "metadata": {
        "colab": {
          "background_save": true
        },
        "id": "4vlrgQrAr7Gw",
        "outputId": "0989e838-9d02-4198-908e-126772febe2a"
      },
      "outputs": [
        {
          "data": {
            "text/plain": [
              "<matplotlib.image.AxesImage at 0x7f22816172e0>"
            ]
          },
          "execution_count": 22,
          "metadata": {},
          "output_type": "execute_result"
        },
        {
          "data": {
            "image/png": "[encoded data removed]",
            "text/plain": [
              "<Figure size 640x480 with 1 Axes>"
            ]
          },
          "metadata": {},
          "output_type": "display_data"
        }
      ],
      "source": [
        "plt.imshow(x_train[1 ,: ,: ,0] , cmap='gray')"
      ]
    },
    {
      "cell_type": "code",
      "execution_count": null,
      "metadata": {
        "id": "dn2n_JkqsiwC"
      },
      "outputs": [],
      "source": [
        "model = keras.models.Sequential([\n",
        "  keras.layers.Conv2D(50 , 5 , activation='relu' , padding='same', input_shape=[32,32,3]),\n",
        "  keras.layers.MaxPooling2D(2),\n",
        "  keras.layers.Conv2D(100 , 3 , activation='relu' , padding='same'),\n",
        "  keras.layers.MaxPooling2D(2),\n",
        "  keras.layers.Conv2D(200 , 3 , activation='relu' , padding='same'),\n",
        "  keras.layers.MaxPooling2D(2),\n",
        "  keras.layers.Flatten(),\n",
        "  keras.layers.Dense(100 , activation='relu'),\n",
        "  keras.layers.Dropout(0.4),\n",
        "  keras.layers.Dense(50 , activation='relu'),\n",
        "  keras.layers.Dropout(0.4),\n",
        "  keras.layers.Dense(10 , activation='softmax')\n",
        "])"
      ]
    },
    {
      "cell_type": "code",
      "execution_count": null,
      "metadata": {
        "id": "NniswOepXQF-"
      },
      "outputs": [],
      "source": [
        "model.compile(\n",
        "    loss='sparse_categorical_crossentropy',\n",
        "    optimizer='adam',\n",
        "    metrics='accuracy'\n",
        ")"
      ]
    },
    {
      "cell_type": "code",
      "execution_count": null,
      "metadata": {
        "id": "Birl3KhZXvL-",
        "colab": {
          "base_uri": "https://localhost:8080/"
        },
        "outputId": "b7fe2ce7-218f-4ba5-ff1c-b215311221de"
      },
      "outputs": [
        {
          "output_type": "stream",
          "name": "stdout",
          "text": [
            "Epoch 1/50\n",
            "1172/1172 [==============================] - 21s 7ms/step - loss: 1.9139 - accuracy: 0.2754 - val_loss: 1.5147 - val_accuracy: 0.4534\n",
            "Epoch 2/50\n",
            "1172/1172 [==============================] - 7s 6ms/step - loss: 1.5275 - accuracy: 0.4459 - val_loss: 1.3356 - val_accuracy: 0.5382\n",
            "Epoch 3/50\n",
            "1172/1172 [==============================] - 7s 6ms/step - loss: 1.3483 - accuracy: 0.5209 - val_loss: 1.1578 - val_accuracy: 0.5823\n",
            "Epoch 4/50\n",
            "1172/1172 [==============================] - 7s 6ms/step - loss: 1.2171 - accuracy: 0.5733 - val_loss: 1.1058 - val_accuracy: 0.6046\n",
            "Epoch 5/50\n",
            "1172/1172 [==============================] - 13s 11ms/step - loss: 1.1144 - accuracy: 0.6143 - val_loss: 1.0494 - val_accuracy: 0.6317\n",
            "Epoch 6/50\n",
            "1172/1172 [==============================] - 12s 11ms/step - loss: 1.0339 - accuracy: 0.6447 - val_loss: 0.9790 - val_accuracy: 0.6605\n",
            "Epoch 7/50\n",
            "1172/1172 [==============================] - 13s 11ms/step - loss: 0.9558 - accuracy: 0.6690 - val_loss: 0.9421 - val_accuracy: 0.6753\n",
            "Epoch 8/50\n",
            "1172/1172 [==============================] - 12s 11ms/step - loss: 0.9072 - accuracy: 0.6894 - val_loss: 0.9533 - val_accuracy: 0.6751\n",
            "Epoch 9/50\n",
            "1172/1172 [==============================] - 11s 9ms/step - loss: 0.8331 - accuracy: 0.7156 - val_loss: 0.9297 - val_accuracy: 0.6872\n",
            "Epoch 10/50\n",
            "1172/1172 [==============================] - 12s 10ms/step - loss: 0.7994 - accuracy: 0.7271 - val_loss: 0.9235 - val_accuracy: 0.6896\n",
            "Epoch 11/50\n",
            "1172/1172 [==============================] - 7s 6ms/step - loss: 0.7507 - accuracy: 0.7453 - val_loss: 0.9327 - val_accuracy: 0.6968\n",
            "Epoch 12/50\n",
            "1172/1172 [==============================] - 7s 6ms/step - loss: 0.7151 - accuracy: 0.7563 - val_loss: 0.9275 - val_accuracy: 0.6928\n",
            "Epoch 13/50\n",
            "1172/1172 [==============================] - 6s 5ms/step - loss: 0.6750 - accuracy: 0.7715 - val_loss: 0.9438 - val_accuracy: 0.7006\n",
            "Epoch 14/50\n",
            "1172/1172 [==============================] - 7s 6ms/step - loss: 0.6390 - accuracy: 0.7837 - val_loss: 0.9485 - val_accuracy: 0.7079\n",
            "Epoch 15/50\n",
            "1172/1172 [==============================] - 7s 6ms/step - loss: 0.6159 - accuracy: 0.7901 - val_loss: 0.9712 - val_accuracy: 0.6997\n",
            "Epoch 16/50\n",
            "1172/1172 [==============================] - 7s 6ms/step - loss: 0.5891 - accuracy: 0.7993 - val_loss: 1.0136 - val_accuracy: 0.6902\n",
            "Epoch 17/50\n",
            "1172/1172 [==============================] - 6s 5ms/step - loss: 0.5674 - accuracy: 0.8080 - val_loss: 1.0248 - val_accuracy: 0.7009\n",
            "Epoch 18/50\n",
            "1172/1172 [==============================] - 7s 6ms/step - loss: 0.5317 - accuracy: 0.8189 - val_loss: 1.0214 - val_accuracy: 0.7045\n",
            "Epoch 19/50\n",
            "1172/1172 [==============================] - 7s 6ms/step - loss: 0.5274 - accuracy: 0.8239 - val_loss: 1.0188 - val_accuracy: 0.7025\n",
            "Epoch 20/50\n",
            "1172/1172 [==============================] - 8s 7ms/step - loss: 0.5014 - accuracy: 0.8317 - val_loss: 1.0824 - val_accuracy: 0.7014\n",
            "Epoch 21/50\n",
            "1172/1172 [==============================] - 8s 7ms/step - loss: 0.4787 - accuracy: 0.8382 - val_loss: 1.0991 - val_accuracy: 0.6951\n",
            "Epoch 22/50\n",
            "1172/1172 [==============================] - 6s 5ms/step - loss: 0.4536 - accuracy: 0.8471 - val_loss: 1.1288 - val_accuracy: 0.6986\n",
            "Epoch 23/50\n",
            "1172/1172 [==============================] - 7s 6ms/step - loss: 0.4312 - accuracy: 0.8554 - val_loss: 1.1367 - val_accuracy: 0.6998\n",
            "Epoch 24/50\n",
            "1172/1172 [==============================] - 7s 6ms/step - loss: 0.4310 - accuracy: 0.8574 - val_loss: 1.1384 - val_accuracy: 0.7014\n",
            "Epoch 25/50\n",
            "1172/1172 [==============================] - 7s 6ms/step - loss: 0.4148 - accuracy: 0.8615 - val_loss: 1.1539 - val_accuracy: 0.7102\n",
            "Epoch 26/50\n",
            "1172/1172 [==============================] - 7s 6ms/step - loss: 0.3979 - accuracy: 0.8673 - val_loss: 1.1639 - val_accuracy: 0.7082\n",
            "Epoch 27/50\n",
            "1172/1172 [==============================] - 11s 10ms/step - loss: 0.3924 - accuracy: 0.8679 - val_loss: 1.1808 - val_accuracy: 0.7035\n",
            "Epoch 28/50\n",
            "1172/1172 [==============================] - 7s 6ms/step - loss: 0.3795 - accuracy: 0.8736 - val_loss: 1.2878 - val_accuracy: 0.7103\n",
            "Epoch 29/50\n",
            "1172/1172 [==============================] - 7s 6ms/step - loss: 0.3724 - accuracy: 0.8764 - val_loss: 1.2882 - val_accuracy: 0.7028\n",
            "Epoch 30/50\n",
            "1172/1172 [==============================] - 7s 6ms/step - loss: 0.3565 - accuracy: 0.8807 - val_loss: 1.2823 - val_accuracy: 0.7071\n",
            "Epoch 31/50\n",
            "1172/1172 [==============================] - 7s 6ms/step - loss: 0.3506 - accuracy: 0.8798 - val_loss: 1.3006 - val_accuracy: 0.7019\n",
            "Epoch 32/50\n",
            "1172/1172 [==============================] - 6s 5ms/step - loss: 0.3447 - accuracy: 0.8871 - val_loss: 1.3590 - val_accuracy: 0.7018\n",
            "Epoch 33/50\n",
            "1172/1172 [==============================] - 7s 6ms/step - loss: 0.3423 - accuracy: 0.8874 - val_loss: 1.3132 - val_accuracy: 0.7048\n",
            "Epoch 34/50\n",
            "1172/1172 [==============================] - 7s 6ms/step - loss: 0.3210 - accuracy: 0.8923 - val_loss: 1.3741 - val_accuracy: 0.7072\n",
            "Epoch 35/50\n",
            "1172/1172 [==============================] - 7s 6ms/step - loss: 0.3214 - accuracy: 0.8942 - val_loss: 1.3488 - val_accuracy: 0.7070\n",
            "Epoch 36/50\n",
            "1172/1172 [==============================] - 6s 5ms/step - loss: 0.3202 - accuracy: 0.8969 - val_loss: 1.3486 - val_accuracy: 0.7094\n",
            "Epoch 37/50\n",
            "1172/1172 [==============================] - 7s 6ms/step - loss: 0.2980 - accuracy: 0.9015 - val_loss: 1.3980 - val_accuracy: 0.7100\n",
            "Epoch 38/50\n",
            "1172/1172 [==============================] - 6s 5ms/step - loss: 0.2986 - accuracy: 0.9021 - val_loss: 1.4244 - val_accuracy: 0.7002\n",
            "Epoch 39/50\n",
            "1172/1172 [==============================] - 7s 6ms/step - loss: 0.2951 - accuracy: 0.9030 - val_loss: 1.4357 - val_accuracy: 0.7018\n",
            "Epoch 40/50\n",
            "1172/1172 [==============================] - 8s 7ms/step - loss: 0.2906 - accuracy: 0.9064 - val_loss: 1.3718 - val_accuracy: 0.7029\n",
            "Epoch 41/50\n",
            "1172/1172 [==============================] - 7s 6ms/step - loss: 0.2745 - accuracy: 0.9082 - val_loss: 1.5357 - val_accuracy: 0.7070\n",
            "Epoch 42/50\n",
            "1172/1172 [==============================] - 7s 6ms/step - loss: 0.2712 - accuracy: 0.9120 - val_loss: 1.5422 - val_accuracy: 0.7022\n",
            "Epoch 43/50\n",
            "1172/1172 [==============================] - 6s 5ms/step - loss: 0.2735 - accuracy: 0.9124 - val_loss: 1.5308 - val_accuracy: 0.7010\n",
            "Epoch 44/50\n",
            "1172/1172 [==============================] - 7s 6ms/step - loss: 0.2742 - accuracy: 0.9105 - val_loss: 1.5206 - val_accuracy: 0.6864\n",
            "Epoch 45/50\n",
            "1172/1172 [==============================] - 7s 6ms/step - loss: 0.2619 - accuracy: 0.9158 - val_loss: 1.5816 - val_accuracy: 0.6934\n",
            "Epoch 46/50\n",
            "1172/1172 [==============================] - 7s 6ms/step - loss: 0.2476 - accuracy: 0.9189 - val_loss: 1.6417 - val_accuracy: 0.7056\n",
            "Epoch 47/50\n",
            "1172/1172 [==============================] - 7s 6ms/step - loss: 0.2584 - accuracy: 0.9169 - val_loss: 1.5193 - val_accuracy: 0.7083\n",
            "Epoch 48/50\n",
            "1172/1172 [==============================] - 7s 6ms/step - loss: 0.2534 - accuracy: 0.9173 - val_loss: 1.6426 - val_accuracy: 0.6982\n",
            "Epoch 49/50\n",
            "1172/1172 [==============================] - 7s 6ms/step - loss: 0.2366 - accuracy: 0.9241 - val_loss: 1.6279 - val_accuracy: 0.6988\n",
            "Epoch 50/50\n",
            "1172/1172 [==============================] - 6s 5ms/step - loss: 0.2439 - accuracy: 0.9224 - val_loss: 1.6761 - val_accuracy: 0.7051\n"
          ]
        }
      ],
      "source": [
        "h = model.fit(x_train , y_train , validation_data=(x_val , y_val) , epochs=50)"
      ]
    },
    {
      "cell_type": "code",
      "source": [
        "tf.keras.utils.plot_model(model , show_shapes=True , expand_nested=True , show_layer_activations=True, show_dtype=True , show_trainable=True)"
      ],
      "metadata": {
        "colab": {
          "base_uri": "https://localhost:8080/",
          "height": 175
        },
        "id": "3412VSxOcWYt",
        "outputId": "08d3b992-8873-43ae-de34-aff234664715"
      },
      "execution_count": null,
      "outputs": [
        {
          "output_type": "error",
          "ename": "AttributeError",
          "evalue": "ignored",
          "traceback": [
            "\u001b[0;31m---------------------------------------------------------------------------\u001b[0m",
            "\u001b[0;31mAttributeError\u001b[0m                            Traceback (most recent call last)",
            "\u001b[0;32m<ipython-input-33-19528f244cc1>\u001b[0m in \u001b[0;36m<cell line: 1>\u001b[0;34m()\u001b[0m\n\u001b[0;32m----> 1\u001b[0;31m \u001b[0mtf\u001b[0m\u001b[0;34m.\u001b[0m\u001b[0mkeras\u001b[0m\u001b[0;34m.\u001b[0m\u001b[0mutils\u001b[0m\u001b[0;34m.\u001b[0m\u001b[0mplot_model\u001b[0m\u001b[0;34m(\u001b[0m\u001b[0mmodel\u001b[0m \u001b[0;34m,\u001b[0m \u001b[0mshow_shapes\u001b[0m\u001b[0;34m=\u001b[0m\u001b[0;32mTrue\u001b[0m \u001b[0;34m,\u001b[0m \u001b[0mexpand_nested\u001b[0m\u001b[0;34m=\u001b[0m\u001b[0;32mTrue\u001b[0m \u001b[0;34m,\u001b[0m \u001b[0mshow_layer_activations\u001b[0m\u001b[0;34m=\u001b[0m\u001b[0;32mTrue\u001b[0m\u001b[0;34m,\u001b[0m \u001b[0mshow_dtype\u001b[0m\u001b[0;34m=\u001b[0m\u001b[0;32mTrue\u001b[0m \u001b[0;34m,\u001b[0m \u001b[0mshow_trainable\u001b[0m\u001b[0;34m=\u001b[0m\u001b[0;32mTrue\u001b[0m \u001b[0;34m,\u001b[0m \u001b[0mlayer_range\u001b[0m\u001b[0;34m=\u001b[0m\u001b[0;34m(\u001b[0m\u001b[0mh\u001b[0m\u001b[0;34m.\u001b[0m\u001b[0mlayers\u001b[0m\u001b[0;34m[\u001b[0m\u001b[0;36m0\u001b[0m\u001b[0;34m]\u001b[0m\u001b[0;34m)\u001b[0m\u001b[0;34m)\u001b[0m\u001b[0;34m\u001b[0m\u001b[0;34m\u001b[0m\u001b[0m\n\u001b[0m",
            "\u001b[0;31mAttributeError\u001b[0m: 'History' object has no attribute 'layers'"
          ]
        }
      ]
    },
    {
      "cell_type": "code",
      "execution_count": null,
      "metadata": {
        "colab": {
          "background_save": true
        },
        "id": "NNjOHG3IYAk8"
      },
      "outputs": [],
      "source": [
        "model.summary()"
      ]
    },
    {
      "cell_type": "code",
      "execution_count": null,
      "metadata": {
        "colab": {
          "base_uri": "https://localhost:8080/"
        },
        "id": "SsMypCndbHDl",
        "outputId": "b479ef13-5e9e-47f6-f767-7a7c7b8f13af"
      },
      "outputs": [
        {
          "output_type": "stream",
          "name": "stdout",
          "text": [
            "313/313 [==============================] - 1s 4ms/step - loss: 1.6953 - accuracy: 0.7071\n"
          ]
        },
        {
          "output_type": "execute_result",
          "data": {
            "text/plain": [
              "[1.6952999830245972, 0.707099974155426]"
            ]
          },
          "metadata": {},
          "execution_count": 9
        }
      ],
      "source": [
        "model.evaluate(x_test , y_test)"
      ]
    },
    {
      "cell_type": "code",
      "execution_count": null,
      "metadata": {
        "colab": {
          "base_uri": "https://localhost:8080/"
        },
        "id": "ff2t8fQmblMF",
        "outputId": "734efaba-cef6-4edd-9bb1-fc80371fe264"
      },
      "outputs": [
        {
          "output_type": "stream",
          "name": "stdout",
          "text": [
            "313/313 [==============================] - 1s 2ms/step\n"
          ]
        },
        {
          "output_type": "execute_result",
          "data": {
            "text/plain": [
              "array([[1.3688357e-03, 3.0474345e-07, 4.8286741e-04, ..., 2.6375777e-03,\n",
              "        2.8338925e-05, 5.5679270e-06],\n",
              "       [4.0281285e-09, 8.5522431e-01, 7.3120653e-20, ..., 1.8131617e-25,\n",
              "        1.4477567e-01, 4.4335813e-08],\n",
              "       [1.3886488e-04, 1.1022216e-05, 3.0140237e-07, ..., 9.8397790e-10,\n",
              "        9.9967229e-01, 1.7311366e-05],\n",
              "       ...,\n",
              "       [2.5039029e-07, 9.9844955e-10, 6.0295137e-03, ..., 4.9108284e-04,\n",
              "        7.3972065e-11, 7.3318235e-10],\n",
              "       [5.9464783e-06, 9.9901021e-01, 1.0276400e-08, ..., 2.0768326e-08,\n",
              "        8.0836975e-07, 9.8008662e-04],\n",
              "       [4.8780213e-30, 9.9119451e-35, 4.5607324e-29, ..., 1.0000000e+00,\n",
              "        0.0000000e+00, 1.7100637e-28]], dtype=float32)"
            ]
          },
          "metadata": {},
          "execution_count": 10
        }
      ],
      "source": [
        "pre = model.predict(x_test)\n",
        "pre"
      ]
    },
    {
      "cell_type": "code",
      "execution_count": null,
      "metadata": {
        "colab": {
          "base_uri": "https://localhost:8080/"
        },
        "id": "kl9Jq1S1bwt1",
        "outputId": "9043fce7-0b4a-4f16-f1f4-03208958b302"
      },
      "outputs": [
        {
          "output_type": "stream",
          "name": "stdout",
          "text": [
            "313/313 [==============================] - 1s 2ms/step\n"
          ]
        }
      ],
      "source": [
        "pre = np.argmax(model.predict(x_test).round(3) , axis=1)"
      ]
    },
    {
      "cell_type": "code",
      "execution_count": null,
      "metadata": {
        "colab": {
          "base_uri": "https://localhost:8080/"
        },
        "id": "Y-gnODOpbn81",
        "outputId": "1184087e-73d7-494b-ae2c-e0c745722022"
      },
      "outputs": [
        {
          "output_type": "execute_result",
          "data": {
            "text/plain": [
              "array([5, 1, 8, ..., 5, 1, 7])"
            ]
          },
          "metadata": {},
          "execution_count": 12
        }
      ],
      "source": [
        "pre"
      ]
    },
    {
      "cell_type": "code",
      "execution_count": null,
      "metadata": {
        "colab": {
          "base_uri": "https://localhost:8080/"
        },
        "id": "3U2Suympd268",
        "outputId": "187353ef-846e-4371-c48e-a900e7854a04"
      },
      "outputs": [
        {
          "output_type": "execute_result",
          "data": {
            "text/plain": [
              "array([[3],\n",
              "       [8],\n",
              "       [8],\n",
              "       ...,\n",
              "       [5],\n",
              "       [1],\n",
              "       [7]], dtype=uint8)"
            ]
          },
          "metadata": {},
          "execution_count": 13
        }
      ],
      "source": [
        "(y_test)"
      ]
    },
    {
      "cell_type": "code",
      "execution_count": null,
      "metadata": {
        "id": "LCn5lAo7d4Cl"
      },
      "outputs": [],
      "source": [
        "from sklearn.metrics import classification_report , confusion_matrix"
      ]
    },
    {
      "cell_type": "code",
      "execution_count": null,
      "metadata": {
        "colab": {
          "base_uri": "https://localhost:8080/"
        },
        "id": "8J6d-NijeN50",
        "outputId": "581d3e8c-20c0-4549-8ab2-6d721841bda4"
      },
      "outputs": [
        {
          "output_type": "stream",
          "name": "stdout",
          "text": [
            "              precision    recall  f1-score   support\n",
            "\n",
            "           0       0.77      0.75      0.76      1020\n",
            "           1       0.90      0.75      0.82      1189\n",
            "           2       0.56      0.67      0.61       836\n",
            "           3       0.52      0.46      0.49      1135\n",
            "           4       0.63      0.64      0.63       992\n",
            "           5       0.59      0.64      0.61       934\n",
            "           6       0.77      0.78      0.78       986\n",
            "           7       0.76      0.75      0.75      1009\n",
            "           8       0.83      0.84      0.84       986\n",
            "           9       0.75      0.82      0.78       913\n",
            "\n",
            "    accuracy                           0.71     10000\n",
            "   macro avg       0.71      0.71      0.71     10000\n",
            "weighted avg       0.71      0.71      0.71     10000\n",
            "\n"
          ]
        }
      ],
      "source": [
        "print(classification_report(pre , y_test))"
      ]
    },
    {
      "cell_type": "code",
      "execution_count": null,
      "metadata": {
        "colab": {
          "base_uri": "https://localhost:8080/"
        },
        "id": "Chb5Vu0GePeW",
        "outputId": "cf3b630c-167e-49c5-ef58-702089350a8a"
      },
      "outputs": [
        {
          "output_type": "execute_result",
          "data": {
            "text/plain": [
              "array([[768,  12,  71,  25,  34,  12,   8,  17,  44,  29],\n",
              "       [ 35, 895,  11,  15,  12,  11,  16,   5,  51, 138],\n",
              "       [ 42,   2, 558,  53,  58,  36,  40,  27,   7,  13],\n",
              "       [ 20,   7, 117, 518,  96, 199,  79,  53,  24,  22],\n",
              "       [ 15,   4,  85,  81, 630,  55,  36,  72,   7,   7],\n",
              "       [  3,   0,  46, 173,  36, 594,  26,  47,   5,   4],\n",
              "       [  7,   4,  54,  62,  49,  25, 774,   3,   4,   4],\n",
              "       [ 16,   3,  39,  38,  74,  50,   9, 755,   7,  18],\n",
              "       [ 65,  17,  11,  14,   9,  10,   8,   2, 832,  18],\n",
              "       [ 29,  56,   8,  21,   2,   8,   4,  19,  19, 747]])"
            ]
          },
          "metadata": {},
          "execution_count": 16
        }
      ],
      "source": [
        "confusion_matrix(pre , y_test)"
      ]
    },
    {
      "cell_type": "code",
      "execution_count": null,
      "metadata": {
        "colab": {
          "background_save": true
        },
        "id": "erEXiFVneTKs",
        "outputId": "a669325e-0be5-4709-8b58-285477d04981"
      },
      "outputs": [
        {
          "name": "stdout",
          "output_type": "stream",
          "text": [
            "391/391 [==============================] - 2s 4ms/step - loss: 1.3901 - accuracy: 0.7076\n"
          ]
        },
        {
          "data": {
            "text/plain": [
              "[1.390075922012329, 0.7075999975204468]"
            ]
          },
          "execution_count": 35,
          "metadata": {},
          "output_type": "execute_result"
        }
      ],
      "source": [
        "model.evaluate(x_val , y_val)"
      ]
    },
    {
      "cell_type": "markdown",
      "metadata": {
        "id": "5Ukktyy8_kXk"
      },
      "source": [
        "# **Xception Model**"
      ]
    },
    {
      "cell_type": "code",
      "execution_count": null,
      "metadata": {
        "id": "WJJ9-0hwrrNO"
      },
      "outputs": [],
      "source": [
        "from keras import layers\n",
        "from tensorflow import keras\n",
        "from keras.layers import Conv2D as conv , MaxPooling2D as max , Dense as dn\n",
        "from keras.applications import Xception"
      ]
    },
    {
      "cell_type": "code",
      "execution_count": null,
      "metadata": {
        "id": "IQ1N7QMBjUmC"
      },
      "outputs": [],
      "source": [
        "xc = keras.applications.Xception(include_top=False)"
      ]
    },
    {
      "cell_type": "code",
      "execution_count": null,
      "metadata": {
        "id": "zZ-ucJTo6foc"
      },
      "outputs": [],
      "source": [
        "for layer in (xc.layers):\n",
        "  layer.trainable = False\n",
        "\n",
        "# xc.summary()"
      ]
    },
    {
      "cell_type": "code",
      "execution_count": null,
      "metadata": {
        "id": "R8B9uzIG6gIr"
      },
      "outputs": [],
      "source": [
        "ga = keras.layers.GlobalAveragePooling2D()(xc.output)\n",
        "output = dn(10 , activation='softmax')(ga)\n",
        "model = keras.Model(inputs=[xc.input] , outputs=[output])"
      ]
    },
    {
      "cell_type": "code",
      "execution_count": null,
      "metadata": {
        "id": "lw6kyC0n6gNT"
      },
      "outputs": [],
      "source": [
        "model.compile(\n",
        "    loss='sparse_categorical_crossentropy',\n",
        "    optimizer='adam',\n",
        "    metrics=['accuracy']\n",
        ")"
      ]
    },
    {
      "cell_type": "code",
      "execution_count": null,
      "metadata": {
        "colab": {
          "background_save": true
        },
        "id": "LEooosyFvhgU"
      },
      "outputs": [],
      "source": [
        "model.fit(x_train , y_train , epochs=30 , validation_split=0.3)"
      ]
    },
    {
      "cell_type": "code",
      "execution_count": null,
      "metadata": {
        "id": "ypZJ6OipBIXD"
      },
      "outputs": [],
      "source": []
    }
  ],
  "metadata": {
    "accelerator": "GPU",
    "colab": {
      "provenance": [],
      "authorship_tag": "ABX9TyP2ZkrnAkW79LC5pT/bsF1A",
      "include_colab_link": true
    },
    "kernelspec": {
      "display_name": "Python 3",
      "name": "python3"
    },
    "language_info": {
      "name": "python"
    }
  },
  "nbformat": 4,
  "nbformat_minor": 0
}